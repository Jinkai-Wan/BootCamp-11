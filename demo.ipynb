{
 "cells": [
  {
   "cell_type": "code",
   "execution_count": 1,
   "metadata": {},
   "outputs": [
    {
     "name": "stdout",
     "output_type": "stream",
     "text": [
      "Hello CP Bootcamp\n"
     ]
    }
   ],
   "source": [
    "print('Hello CP Bootcamp')"
   ]
  },
  {
   "cell_type": "markdown",
   "metadata": {},
   "source": [
    "#This is our first markdown heading\n",
    "Here is an example of \"Markdown\"\n",
    "-markdown id a psudeo-language\n",
    "-its useful for formatting text"
   ]
  },
  {
   "cell_type": "code",
   "execution_count": null,
   "metadata": {},
   "outputs": [
    {
     "name": "stdout",
     "output_type": "stream",
     "text": [
      "Hello World\n"
     ]
    }
   ],
   "source": [
    "# set a boolean variable\n",
    "bootcamp = False\n",
    "# these store the answers to yes.no \n",
    "hello = \"Hello\"\n",
    "if bootcamp:\n",
    "    print(hello + ' CP Bootcamp')\n",
    "else:\n",
    "    print(hello + ' World')"
   ]
  },
  {
   "cell_type": "code",
   "execution_count": 6,
   "metadata": {},
   "outputs": [
    {
     "name": "stdout",
     "output_type": "stream",
     "text": [
      "True\n",
      "False\n"
     ]
    }
   ],
   "source": [
    "var = True\n",
    "Var = False\n",
    "print(var)\n",
    "print(Var)"
   ]
  },
  {
   "cell_type": "code",
   "execution_count": 8,
   "metadata": {},
   "outputs": [
    {
     "name": "stdout",
     "output_type": "stream",
     "text": [
      "Hello World!\n"
     ]
    }
   ],
   "source": [
    "# \n",
    "CP_binney=False\n",
    "if bootcamp and CP_binney:\n",
    "    print(hello +' and welcome to the CP Bootcamp at 300 Binney!')\n",
    "elif bootcamp and not CP_binney:\n",
    "    print(hello +' and welcome to the CP bootcamp at 75 ames')\n",
    "else:\n",
    "    print(hello+' World!')\n"
   ]
  },
  {
   "cell_type": "code",
   "execution_count": 12,
   "metadata": {},
   "outputs": [
    {
     "name": "stdout",
     "output_type": "stream",
     "text": [
      "Hello world\n",
      "HelloCP bootcamp, from Lauren\n",
      "HelloCP bootcamp, from David\n"
     ]
    }
   ],
   "source": [
    "# first function\n",
    "def say_hello(greetee,greeter=None):\n",
    "    greeting = \"Hello\" + greetee\n",
    "    if greeter:\n",
    "        greeting += ', from ' + greeter\n",
    "    print(greeting)\n",
    "\n",
    "say_hello(' world')\n",
    "say_hello('CP bootcamp', 'Lauren')\n",
    "say_hello('CP bootcamp', 'David')\n"
   ]
  },
  {
   "cell_type": "code",
   "execution_count": 14,
   "metadata": {},
   "outputs": [
    {
     "name": "stdout",
     "output_type": "stream",
     "text": [
      "Cureent tally:  0\n",
      "Next tally increment:  3\n",
      "Cureent tally:  3\n",
      "Next tally increment:  3\n",
      "Cureent tally:  6\n",
      "Next tally increment:  0\n",
      "Cureent tally:  6\n",
      "Next tally increment:  3\n",
      "Cureent tally:  9\n",
      "Next tally increment:  0\n",
      "Cureent tally:  9\n",
      "Next tally increment:  2\n",
      "Cureent tally:  11\n",
      "Next tally increment:  4\n",
      "Cureent tally:  15\n",
      "Next tally increment:  1\n",
      "Cureent tally:  16\n",
      "Next tally increment:  3\n",
      "Cureent tally:  19\n",
      "Next tally increment:  2\n",
      "Cureent tally:  21\n",
      "Next tally increment:  5\n",
      "Cureent tally:  26\n",
      "Next tally increment:  5\n",
      "Cureent tally:  31\n",
      "Next tally increment:  5\n",
      "Cureent tally:  36\n",
      "Next tally increment:  3\n",
      "Cureent tally:  39\n",
      "Next tally increment:  2\n",
      "Cureent tally:  41\n",
      "Next tally increment:  1\n",
      "Cureent tally:  42\n",
      "Next tally increment:  1\n",
      "Cureent tally:  43\n",
      "Next tally increment:  5\n",
      "Cureent tally:  48\n",
      "Next tally increment:  2\n",
      "final tally:  50\n"
     ]
    }
   ],
   "source": [
    "import random\n",
    "tally = 0\n",
    "while tally < 50:\n",
    "    print('Cureent tally: ', tally)\n",
    "    increment = random.randint(0,5)\n",
    "    print(\"Next tally increment: \", increment)\n",
    "    tally += increment\n",
    "print(\"final tally: \", tally)"
   ]
  },
  {
   "cell_type": "code",
   "execution_count": 15,
   "metadata": {},
   "outputs": [
    {
     "name": "stdout",
     "output_type": "stream",
     "text": [
      "Help on method randint in module random:\n",
      "\n",
      "randint(a, b) method of random.Random instance\n",
      "    Return random integer in range [a, b], including both end points.\n",
      "\n"
     ]
    }
   ],
   "source": [
    "\n",
    "help(random.randint)"
   ]
  },
  {
   "cell_type": "code",
   "execution_count": null,
   "metadata": {},
   "outputs": [],
   "source": []
  },
  {
   "cell_type": "markdown",
   "metadata": {},
   "source": [
    "# datatypes"
   ]
  },
  {
   "cell_type": "code",
   "execution_count": 16,
   "metadata": {},
   "outputs": [
    {
     "name": "stdout",
     "output_type": "stream",
     "text": [
      "this is a  <class 'int'> with value: 5\n",
      "this is a  <class 'float'> with value:  5.0\n"
     ]
    }
   ],
   "source": [
    "# numbers\n",
    "my_int = 5\n",
    "my_float = 5.0\n",
    "print( 'this is a ', type(my_int), \"with value:\", my_int)\n",
    "print('this is a ', type(my_float), \"with value: \", my_float)"
   ]
  },
  {
   "cell_type": "code",
   "execution_count": 17,
   "metadata": {},
   "outputs": [
    {
     "name": "stdout",
     "output_type": "stream",
     "text": [
      "2\n",
      "10\n",
      "7\n",
      "4\n",
      "100\n",
      "0.01\n"
     ]
    }
   ],
   "source": [
    "print(1+1)\n",
    "print(2*5)\n",
    "\n",
    "print(2*5-3)\n",
    "print(2*(5-3))\n",
    "\n",
    "print(10**2)\n",
    "print(10**-2)"
   ]
  },
  {
   "cell_type": "code",
   "execution_count": 18,
   "metadata": {},
   "outputs": [
    {
     "name": "stdout",
     "output_type": "stream",
     "text": [
      "False\n",
      "True\n"
     ]
    }
   ],
   "source": [
    "# warning: be careful when checking equality with floats\n",
    "# second thought: dont do it\n",
    "print(0.1 +0.2 == 0.3)\n",
    "print(0.1 + 0.3 == 0.2 + 0.2)\n"
   ]
  },
  {
   "cell_type": "code",
   "execution_count": 19,
   "metadata": {},
   "outputs": [
    {
     "name": "stdout",
     "output_type": "stream",
     "text": [
      "False\n",
      "True\n"
     ]
    }
   ],
   "source": [
    "# for safety, specify a tolerance\n",
    "tol = 10**-10\n",
    "print(0.1 + 0.2 - 0.3 == 0)\n",
    "print(0.1 + 0.2 -0.3 < tol)"
   ]
  },
  {
   "cell_type": "code",
   "execution_count": 20,
   "metadata": {},
   "outputs": [
    {
     "name": "stdout",
     "output_type": "stream",
     "text": [
      "['a', 1, 0.3, None, ['a', 'b']]\n"
     ]
    }
   ],
   "source": [
    "# list\n",
    "# lists can contaion any type of data in any combination\n",
    "l = ['a', 1, 0.3, None, ['a','b']]\n",
    "print(l)"
   ]
  },
  {
   "cell_type": "code",
   "execution_count": 21,
   "metadata": {},
   "outputs": [
    {
     "ename": "SyntaxError",
     "evalue": "invalid syntax. Perhaps you forgot a comma? (3345587858.py, line 1)",
     "output_type": "error",
     "traceback": [
      "\u001b[1;36m  Cell \u001b[1;32mIn[21], line 1\u001b[1;36m\u001b[0m\n\u001b[1;33m    nums = list(range 0:50)\u001b[0m\n\u001b[1;37m                ^\u001b[0m\n\u001b[1;31mSyntaxError\u001b[0m\u001b[1;31m:\u001b[0m invalid syntax. Perhaps you forgot a comma?\n"
     ]
    }
   ],
   "source": [
    "nums = list(range 0:50)"
   ]
  },
  {
   "cell_type": "code",
   "execution_count": 25,
   "metadata": {},
   "outputs": [
    {
     "name": "stdout",
     "output_type": "stream",
     "text": [
      "[[1, 2, 3], [4, 5, 6], [7, 8, 9], [10, 11, 12], [13, 14, 15]]\n"
     ]
    }
   ],
   "source": [
    "nested_list = [[1,2,3],[4,5,6],[7,8,9],[10,11,12],[13,14,15]]\n",
    "print(nested_list)\n"
   ]
  },
  {
   "cell_type": "code",
   "execution_count": 26,
   "metadata": {},
   "outputs": [
    {
     "name": "stdout",
     "output_type": "stream",
     "text": [
      "[[0, 1], [2, 3], [4, 5], [6, 7], [8, 9], [10, 11], [12, 13], [14, 15], [16, 17], [18, 19]]\n",
      "[[0, 1], [2, 3], [4, 5], [6, 7], [8, 9], ['oops', 11], [12, 13], [14, 15], [16, 17], [18, 19]]\n"
     ]
    }
   ],
   "source": [
    "new_test_list = [[i,i+1] for i in range(20) if (i%2 ==0)]\n",
    "print(new_test_list)\n",
    "\n",
    "test_element = new_test_list[5]\n",
    "test_element[0] = 'oops'\n",
    "print(new_test_list)"
   ]
  },
  {
   "cell_type": "code",
   "execution_count": null,
   "metadata": {},
   "outputs": [
    {
     "ename": "SyntaxError",
     "evalue": "'(' was never closed (713853375.py, line 1)",
     "output_type": "error",
     "traceback": [
      "\u001b[1;36m  Cell \u001b[1;32mIn[28], line 1\u001b[1;36m\u001b[0m\n\u001b[1;33m    test_tuple = tuple(range(5)\u001b[0m\n\u001b[1;37m                      ^\u001b[0m\n\u001b[1;31mSyntaxError\u001b[0m\u001b[1;31m:\u001b[0m '(' was never closed\n"
     ]
    }
   ],
   "source": [
    "test_tuple = tuple(range(5))\n",
    "print(test_tuple)\n",
    "test_tuple[2]= -1"
   ]
  },
  {
   "cell_type": "code",
   "execution_count": 29,
   "metadata": {},
   "outputs": [],
   "source": [
    "test_dict = dict()\n",
    "test_dict[(0,0)]= ['test']"
   ]
  },
  {
   "cell_type": "code",
   "execution_count": 30,
   "metadata": {},
   "outputs": [
    {
     "data": {
      "text/plain": [
       "{(0, 0): ['test']}"
      ]
     },
     "execution_count": 30,
     "metadata": {},
     "output_type": "execute_result"
    }
   ],
   "source": [
    "test_dict\n"
   ]
  },
  {
   "cell_type": "code",
   "execution_count": 31,
   "metadata": {},
   "outputs": [
    {
     "name": "stdout",
     "output_type": "stream",
     "text": [
      "{(0, 0): 0, (0, 1): 0, (0, 2): 0, (0, 3): 0, (1, 0): 0, (1, 1): 1, (1, 2): 2, (1, 3): 3, (2, 0): 0, (2, 1): 2, (2, 2): 4, (2, 3): 6}\n"
     ]
    }
   ],
   "source": [
    "print({(a,b):a*b for a in range(3) for b in range(4)})"
   ]
  },
  {
   "cell_type": "markdown",
   "metadata": {},
   "source": [
    "\n",
    "range(start,stop,step)"
   ]
  },
  {
   "cell_type": "code",
   "execution_count": 33,
   "metadata": {},
   "outputs": [
    {
     "ename": "ModuleNotFoundError",
     "evalue": "No module named 'numpy'",
     "output_type": "error",
     "traceback": [
      "\u001b[1;31m---------------------------------------------------------------------------\u001b[0m",
      "\u001b[1;31mModuleNotFoundError\u001b[0m                       Traceback (most recent call last)",
      "Cell \u001b[1;32mIn[33], line 1\u001b[0m\n\u001b[1;32m----> 1\u001b[0m \u001b[38;5;28;01mimport\u001b[39;00m \u001b[38;5;21;01mnumpy\u001b[39;00m \u001b[38;5;28;01mas\u001b[39;00m \u001b[38;5;21;01mnp\u001b[39;00m\n\u001b[0;32m      2\u001b[0m array_1 \u001b[38;5;241m=\u001b[39m np\u001b[38;5;241m.\u001b[39mones(\u001b[38;5;241m10\u001b[39m\u001b[38;5;241m*\u001b[39m\u001b[38;5;241m*\u001b[39m\u001b[38;5;241m4\u001b[39m)\n\u001b[0;32m      3\u001b[0m \u001b[38;5;28mprint\u001b[39m(array_1)\n",
      "\u001b[1;31mModuleNotFoundError\u001b[0m: No module named 'numpy'"
     ]
    }
   ],
   "source": [
    "import numpy as np\n",
    "array_1 = np.ones(10**4)\n",
    "print(array_1)\n",
    "array_2 = np.arange(10**4)\n",
    "%timeit array_1+1.5*array_2"
   ]
  },
  {
   "cell_type": "code",
   "execution_count": 34,
   "metadata": {},
   "outputs": [
    {
     "name": "stdout",
     "output_type": "stream",
     "text": [
      "1.62 ms ± 93.1 μs per loop (mean ± std. dev. of 7 runs, 1,000 loops each)\n"
     ]
    }
   ],
   "source": [
    "list_1 = [1]*10**4\n",
    "list_2 = list(range(10**4))\n",
    "%timeit [list_1[i] + 1.5*list_2[i] for i in range(10**4)]"
   ]
  }
 ],
 "metadata": {
  "kernelspec": {
   "display_name": "base",
   "language": "python",
   "name": "python3"
  },
  "language_info": {
   "codemirror_mode": {
    "name": "ipython",
    "version": 3
   },
   "file_extension": ".py",
   "mimetype": "text/x-python",
   "name": "python",
   "nbconvert_exporter": "python",
   "pygments_lexer": "ipython3",
   "version": "3.12.9"
  }
 },
 "nbformat": 4,
 "nbformat_minor": 2
}
